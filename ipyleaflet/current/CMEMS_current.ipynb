{
 "cells": [
  {
   "cell_type": "markdown",
   "metadata": {},
   "source": [
    "# Example CMEMS obs velocity field with ipyleaflet"
   ]
  },
  {
   "cell_type": "code",
   "execution_count": 17,
   "metadata": {
    "scrolled": true
   },
   "outputs": [
    {
     "data": {
      "application/vnd.jupyter.widget-view+json": {
       "model_id": "daeeb92c92c54a95bab5ea888dc7d27f",
       "version_major": 2,
       "version_minor": 0
      },
      "text/plain": [
       "TWFwKGJhc2VtYXA9eyd1cmwnOiAnaHR0cDovL2MuYmFzZW1hcHMuY2FydG9jZG4uY29tL2RhcmtfYWxsL3t6fS97eH0ve3l9LnBuZycsICdhdHRyaWJ1dGlvbic6ICcmY29weTsgPGEgaHJlZj3igKY=\n"
      ]
     },
     "metadata": {},
     "output_type": "display_data"
    }
   ],
   "source": [
    "from ipyleaflet import Map, Velocity, TileLayer, basemaps, WMSLayer, LayersControl, basemap_to_tiles, Heatmap\n",
    "import xarray as xr\n",
    "import os\n",
    "# Map initial parameter\n",
    "center = [30., -65.]\n",
    "zoom = 5\n",
    "\n",
    "# Setup map and default layers\n",
    "m = Map(center=center, \n",
    "        zoom=zoom, \n",
    "        interpolation='nearest', \n",
    "        basemap=basemaps.CartoDB.DarkMatter, \n",
    "        scroll_wheel_zoom=True)\n",
    "\n",
    "wms = WMSLayer(\n",
    "    url=\"https://demo.boundlessgeo.com/geoserver/ows?\",\n",
    "    layers=\"nasa:bluemarble\"\n",
    ")\n",
    "DarkMatter_layer = basemap_to_tiles(basemaps.CartoDB.DarkMatter)\n",
    "m.add_layer(wms)\n",
    "m.add_layer(DarkMatter_layer)\n",
    "m.add_control(LayersControl())\n",
    "# Display default map\n",
    "m\n"
   ]
  },
  {
   "cell_type": "code",
   "execution_count": 18,
   "metadata": {},
   "outputs": [
    {
     "data": {
      "text/plain": [
       "<xarray.Dataset>\n",
       "Dimensions:    (latitude: 720, longitude: 1440, nv: 2)\n",
       "Coordinates:\n",
       "    time       datetime64[ns] 2003-06-17\n",
       "  * latitude   (latitude) float32 -89.875 -89.625 -89.375 -89.125 -88.875 ...\n",
       "  * longitude  (longitude) float32 0.125 0.375 0.625 0.875 1.125 1.375 1.625 ...\n",
       "  * nv         (nv) int32 0 1\n",
       "Data variables:\n",
       "    crs        int32 ...\n",
       "    lat_bnds   (latitude, nv) float32 ...\n",
       "    lon_bnds   (longitude, nv) float32 ...\n",
       "    ugosa      (latitude, longitude) float64 ...\n",
       "    adt        (latitude, longitude) float64 ...\n",
       "    ugos       (latitude, longitude) float64 ...\n",
       "    sla        (latitude, longitude) float64 ...\n",
       "    vgos       (latitude, longitude) float64 ...\n",
       "    vgosa      (latitude, longitude) float64 ...\n",
       "    err        (latitude, longitude) float64 ...\n",
       "Attributes:\n",
       "    Conventions:                     CF-1.6\n",
       "    Metadata_Conventions:            Unidata Dataset Discovery v1.0\n",
       "    cdm_data_type:                   Grid\n",
       "    comment:                         Sea Surface Height measured by Altimetry...\n",
       "    contact:                         servicedesk.cmems@mercator-ocean.eu\n",
       "    creator_email:                   servicedesk.cmems@mercator-ocean.eu\n",
       "    creator_name:                    CMEMS - Sea Level Thematic Assembly Center\n",
       "    creator_url:                     http://marine.copernicus.eu\n",
       "    date_created:                    2018-02-08T14:44:18Z\n",
       "    date_issued:                     2018-02-08T14:44:18Z\n",
       "    date_modified:                   2018-02-08T14:44:18Z\n",
       "    geospatial_lat_max:              89.875\n",
       "    geospatial_lat_min:              -89.875\n",
       "    geospatial_lat_resolution:       0.25\n",
       "    geospatial_lat_units:            degrees_north\n",
       "    geospatial_lon_max:              359.875\n",
       "    geospatial_lon_min:              0.125\n",
       "    geospatial_lon_resolution:       0.25\n",
       "    geospatial_lon_units:            degrees_east\n",
       "    geospatial_vertical_max:         0.0\n",
       "    geospatial_vertical_min:         0.0\n",
       "    geospatial_vertical_positive:    down\n",
       "    geospatial_vertical_resolution:  point\n",
       "    geospatial_vertical_units:       m\n",
       "    history:                         2018-02-08 14:44:19Z: Created by DUACS D...\n",
       "    institution:                     CLS, CNES\n",
       "    keywords:                        Oceans > Ocean Topography > Sea Surface ...\n",
       "    keywords_vocabulary:             NetCDF COARDS Climate and Forecast Stand...\n",
       "    license:                         http://marine.copernicus.eu/web/27-servi...\n",
       "    platform:                        Envisat, Geosat Follow On, Jason-1, Tope...\n",
       "    processing_level:                L4\n",
       "    product_version:                 4.0\n",
       "    project:                         COPERNICUS MARINE ENVIRONMENT MONITORING...\n",
       "    references:                      http://marine.copernicus.eu\n",
       "    software_version:                6.0\n",
       "    source:                          Altimetry measurements\n",
       "    ssalto_duacs_comment:            The reference mission used for the altim...\n",
       "    standard_name_vocabulary:        NetCDF Climate and Forecast (CF) Metadat...\n",
       "    summary:                         SSALTO/DUACS Delayed-Time Level-4 sea su...\n",
       "    time_coverage_duration:          P1D\n",
       "    time_coverage_end:               2003-06-17T00:00:00Z\n",
       "    time_coverage_resolution:        P1D\n",
       "    time_coverage_start:             2003-06-17T00:00:00Z\n",
       "    title:                           DT merged all satellites Global Ocean Gr..."
      ]
     },
     "execution_count": 18,
     "metadata": {},
     "output_type": "execute_result"
    }
   ],
   "source": [
    "ds = xr.open_dataset('dt_global_allsat_phy_l4_20030617_20180115.nc') #'wind-global.nc')\n",
    "ds.squeeze('time')"
   ]
  },
  {
   "cell_type": "code",
   "execution_count": 19,
   "metadata": {
    "scrolled": true
   },
   "outputs": [],
   "source": [
    "display_options = {\n",
    "    'velocityType': 'Global Wind',\n",
    "    'displayPosition': 'bottomleft',\n",
    "    'displayEmptyString': 'No wind data'\n",
    "}\n",
    "wind = Velocity(\n",
    "    data=ds.squeeze('time'), \n",
    "    zonal_speed='ugos', meridional_speed='vgos', \n",
    "    latitude_dimension='latitude', longitude_dimension='longitude',\n",
    "    min_velocity=0, max_velocity=10, unit='m/s',  velocity_scale=1, \n",
    "    display_options=display_options\n",
    ")\n",
    "m.add_layer(wind)"
   ]
  },
  {
   "cell_type": "code",
   "execution_count": null,
   "metadata": {},
   "outputs": [],
   "source": []
  }
 ],
 "metadata": {
  "kernelspec": {
   "display_name": "Python 2",
   "language": "python",
   "name": "python2"
  },
  "language_info": {
   "codemirror_mode": {
    "name": "ipython",
    "version": 2
   },
   "file_extension": ".py",
   "mimetype": "text/x-python",
   "name": "python",
   "nbconvert_exporter": "python",
   "pygments_lexer": "ipython2",
   "version": "2.7.12"
  }
 },
 "nbformat": 4,
 "nbformat_minor": 2
}
